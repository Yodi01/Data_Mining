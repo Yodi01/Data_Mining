{
  "nbformat": 4,
  "nbformat_minor": 0,
  "metadata": {
    "colab": {
      "name": "Agglomerative_Yodi_171250000239.ipynb",
      "provenance": [],
      "collapsed_sections": []
    },
    "kernelspec": {
      "name": "python3",
      "display_name": "Python 3"
    }
  },
  "cells": [
    {
      "cell_type": "markdown",
      "metadata": {
        "id": "6ZPmMWmzyshP"
      },
      "source": [
        "**Import Library**"
      ]
    },
    {
      "cell_type": "code",
      "metadata": {
        "id": "p097IK45-0FT"
      },
      "source": [
        "import numpy as np\n",
        "import pandas as pd\n",
        "import matplotlib.pyplot as plt\n",
        "import seaborn as sns\n",
        "from sklearn.cluster import AgglomerativeClustering\n",
        "from scipy.cluster.hierarchy import dendrogram, linkage\n",
        "from sklearn import metrics\n",
        "from sklearn.preprocessing import StandardScaler\n",
        "from sklearn.decomposition import PCA\n",
        "from sklearn.metrics.pairwise import cosine_similarity"
      ],
      "execution_count": 6,
      "outputs": []
    },
    {
      "cell_type": "markdown",
      "metadata": {
        "id": "q2ggWAZ3ywtr"
      },
      "source": [
        "**Import Data**"
      ]
    },
    {
      "cell_type": "code",
      "metadata": {
        "id": "gVlwSILRdRaZ"
      },
      "source": [
        "dataset = pd.read_csv('./sample_data/yodi_data.csv')"
      ],
      "execution_count": 8,
      "outputs": []
    },
    {
      "cell_type": "code",
      "metadata": {
        "colab": {
          "base_uri": "https://localhost:8080/",
          "height": 204
        },
        "id": "iWCSH1xkgJ8g",
        "outputId": "649fed9d-4246-4efa-ba3e-cb0eeea029f6"
      },
      "source": [
        "dataset.head()"
      ],
      "execution_count": 9,
      "outputs": [
        {
          "output_type": "execute_result",
          "data": {
            "text/html": [
              "<div>\n",
              "<style scoped>\n",
              "    .dataframe tbody tr th:only-of-type {\n",
              "        vertical-align: middle;\n",
              "    }\n",
              "\n",
              "    .dataframe tbody tr th {\n",
              "        vertical-align: top;\n",
              "    }\n",
              "\n",
              "    .dataframe thead th {\n",
              "        text-align: right;\n",
              "    }\n",
              "</style>\n",
              "<table border=\"1\" class=\"dataframe\">\n",
              "  <thead>\n",
              "    <tr style=\"text-align: right;\">\n",
              "      <th></th>\n",
              "      <th>IDENTITAS</th>\n",
              "      <th>P</th>\n",
              "      <th>Q</th>\n",
              "      <th>R</th>\n",
              "      <th>S</th>\n",
              "    </tr>\n",
              "  </thead>\n",
              "  <tbody>\n",
              "    <tr>\n",
              "      <th>0</th>\n",
              "      <td>701</td>\n",
              "      <td>50</td>\n",
              "      <td>5</td>\n",
              "      <td>8</td>\n",
              "      <td>80</td>\n",
              "    </tr>\n",
              "    <tr>\n",
              "      <th>1</th>\n",
              "      <td>702</td>\n",
              "      <td>25</td>\n",
              "      <td>61</td>\n",
              "      <td>10</td>\n",
              "      <td>68</td>\n",
              "    </tr>\n",
              "    <tr>\n",
              "      <th>2</th>\n",
              "      <td>703</td>\n",
              "      <td>43</td>\n",
              "      <td>53</td>\n",
              "      <td>44</td>\n",
              "      <td>2</td>\n",
              "    </tr>\n",
              "    <tr>\n",
              "      <th>3</th>\n",
              "      <td>704</td>\n",
              "      <td>34</td>\n",
              "      <td>98</td>\n",
              "      <td>34</td>\n",
              "      <td>100</td>\n",
              "    </tr>\n",
              "    <tr>\n",
              "      <th>4</th>\n",
              "      <td>705</td>\n",
              "      <td>86</td>\n",
              "      <td>29</td>\n",
              "      <td>29</td>\n",
              "      <td>63</td>\n",
              "    </tr>\n",
              "  </tbody>\n",
              "</table>\n",
              "</div>"
            ],
            "text/plain": [
              "   IDENTITAS   P   Q   R    S\n",
              "0        701  50   5   8   80\n",
              "1        702  25  61  10   68\n",
              "2        703  43  53  44    2\n",
              "3        704  34  98  34  100\n",
              "4        705  86  29  29   63"
            ]
          },
          "metadata": {
            "tags": []
          },
          "execution_count": 9
        }
      ]
    },
    {
      "cell_type": "code",
      "metadata": {
        "colab": {
          "base_uri": "https://localhost:8080/"
        },
        "id": "6MrNYD8FiGdu",
        "outputId": "3f548b3a-af0a-4e10-eec4-27cbcf031d26"
      },
      "source": [
        "dataset.isna().sum()"
      ],
      "execution_count": 10,
      "outputs": [
        {
          "output_type": "execute_result",
          "data": {
            "text/plain": [
              "IDENTITAS    0\n",
              "P            0\n",
              "Q            0\n",
              "R            0\n",
              "S            0\n",
              "dtype: int64"
            ]
          },
          "metadata": {
            "tags": []
          },
          "execution_count": 10
        }
      ]
    },
    {
      "cell_type": "markdown",
      "metadata": {
        "id": "RZyrsN_Py0_A"
      },
      "source": [
        "**Memanggil Data Untuk Dendrogram**"
      ]
    },
    {
      "cell_type": "code",
      "metadata": {
        "id": "bo4cdlh-p87D"
      },
      "source": [
        "X = dataset.iloc[: , 1:5].values"
      ],
      "execution_count": 11,
      "outputs": []
    },
    {
      "cell_type": "code",
      "metadata": {
        "colab": {
          "base_uri": "https://localhost:8080/"
        },
        "id": "IIKH35zXxODw",
        "outputId": "7a8f7109-6cf5-4311-af03-d4e3462470ac"
      },
      "source": [
        "print(X)"
      ],
      "execution_count": 12,
      "outputs": [
        {
          "output_type": "stream",
          "text": [
            "[[ 50   5   8  80]\n",
            " [ 25  61  10  68]\n",
            " [ 43  53  44   2]\n",
            " [ 34  98  34 100]\n",
            " [ 86  29  29  63]\n",
            " [ 93  59  36  38]\n",
            " [ 46  60  23  16]\n",
            " [ 35  99  19  79]\n",
            " [ 38  49  57 100]\n",
            " [ 93  43  26  10]\n",
            " [ 11  26  70  33]\n",
            " [ 65  56  81  36]\n",
            " [ 79  32 100  90]\n",
            " [ 23  37  51  48]\n",
            " [ 85  78  78  79]\n",
            " [ 82  30  13  40]\n",
            " [ 97  43  58  21]\n",
            " [  0  40   8  82]\n",
            " [ 97  14   4  55]\n",
            " [ 36  45  64  80]\n",
            " [ 64  59  58  29]\n",
            " [ 14  39  99  45]\n",
            " [ 48  21  90  77]\n",
            " [ 81  40  55  27]\n",
            " [ 29  52  65  47]\n",
            " [ 81  16  35  12]\n",
            " [  2  36  39  18]\n",
            " [ 57  73  77  43]\n",
            " [ 97   3  41  20]\n",
            " [  9  48  70   1]\n",
            " [ 18  26  94   5]\n",
            " [  4  48  43  86]\n",
            " [ 21  63  39  54]\n",
            " [  4  55  97   4]\n",
            " [ 85  97  47  39]\n",
            " [ 32  34  25   4]\n",
            " [ 48  15   7  24]\n",
            " [  8  11  51  53]\n",
            " [ 94  65  98  59]\n",
            " [ 96  10  80  97]\n",
            " [ 64  17  38  26]\n",
            " [ 27  67   1  34]\n",
            " [ 21  21  64  20]\n",
            " [ 98  20  59  67]\n",
            " [ 72  26   9  75]\n",
            " [ 79  57   5  28]\n",
            " [ 60  31  49  75]\n",
            " [ 57   6  61  90]\n",
            " [ 76   2  98   1]\n",
            " [ 44  27  57  59]]\n"
          ],
          "name": "stdout"
        }
      ]
    },
    {
      "cell_type": "markdown",
      "metadata": {
        "id": "7SjsXi_vyfEU"
      },
      "source": [
        "**VISUALISASI DENDOGRAM**"
      ]
    },
    {
      "cell_type": "code",
      "metadata": {
        "colab": {
          "base_uri": "https://localhost:8080/",
          "height": 599
        },
        "id": "S7f1zOq3rNPQ",
        "outputId": "b17d1dda-f52b-4ba5-e94a-677061e9dfbf"
      },
      "source": [
        "plt.figure(figsize=(15,10))\n",
        "plt.title('Dendrogram')\n",
        "plt.xlabel('Identitas')\n",
        "plt.ylabel('Jarak Ecluidian')\n",
        "dendrogram(linkage(X,method='ward'))\n",
        "plt.show()"
      ],
      "execution_count": 13,
      "outputs": [
        {
          "output_type": "display_data",
          "data": {
            "image/png": "[encoded data removed]",
            "text/plain": [
              "<Figure size 1080x720 with 1 Axes>"
            ]
          },
          "metadata": {
            "tags": [],
            "needs_background": "light"
          }
        }
      ]
    },
    {
      "cell_type": "markdown",
      "metadata": {
        "id": "5x9V9e8wzFFu"
      },
      "source": [
        "**Clustering**"
      ]
    },
    {
      "cell_type": "code",
      "metadata": {
        "id": "F6nKBeJVy8o4"
      },
      "source": [
        "hc = AgglomerativeClustering(n_clusters=3 , affinity='euclidean' , linkage='ward')\n",
        "y_hc = hc.fit_predict(X)"
      ],
      "execution_count": 14,
      "outputs": []
    },
    {
      "cell_type": "code",
      "metadata": {
        "colab": {
          "base_uri": "https://localhost:8080/"
        },
        "id": "yDBrumSIzw2H",
        "outputId": "3502b2f1-9468-4c4c-efa2-9a365e49dccc"
      },
      "source": [
        "y_hc"
      ],
      "execution_count": 15,
      "outputs": [
        {
          "output_type": "execute_result",
          "data": {
            "text/plain": [
              "array([1, 0, 1, 0, 1, 1, 1, 0, 2, 1, 0, 2, 2, 0, 2, 1, 1, 0, 1, 2, 2, 0,\n",
              "       2, 1, 0, 1, 0, 2, 1, 0, 0, 0, 0, 0, 2, 1, 1, 0, 2, 2, 1, 1, 0, 2,\n",
              "       1, 1, 2, 2, 1, 2])"
            ]
          },
          "metadata": {
            "tags": []
          },
          "execution_count": 15
        }
      ]
    },
    {
      "cell_type": "markdown",
      "metadata": {
        "id": "yYk-opZD0F7S"
      },
      "source": [
        "**PERFORMA JUMLAH CLUSTER MAKSIMAL TERBAIK**"
      ]
    },
    {
      "cell_type": "code",
      "metadata": {
        "colab": {
          "base_uri": "https://localhost:8080/"
        },
        "id": "qmN-6PUm0JaO",
        "outputId": "0205ee98-89e2-4bbc-ed5e-aedbe5162614"
      },
      "source": [
        "for k in range(2,49):\n",
        "  cluster = AgglomerativeClustering(n_clusters = k, affinity='euclidean' , linkage='ward')\n",
        "  cluster.fit_predict(X)\n",
        "  print (k, metrics.calinski_harabasz_score(X,cluster.labels_))"
      ],
      "execution_count": 16,
      "outputs": [
        {
          "output_type": "stream",
          "text": [
            "2 12.426405488188633\n",
            "3 13.533660119554543\n",
            "4 14.633497703063103\n",
            "5 14.456595396296196\n",
            "6 14.644026861891358\n",
            "7 15.287901338402806\n",
            "8 14.837819660389423\n",
            "9 14.700105357604878\n",
            "10 14.861250580433246\n",
            "11 14.945459158461974\n",
            "12 14.67960510194053\n",
            "13 14.624241963833976\n",
            "14 14.487523515352896\n",
            "15 14.201807311314948\n",
            "16 13.979921067255239\n",
            "17 13.844039603600814\n",
            "18 13.795013238014946\n",
            "19 13.847696334001748\n",
            "20 13.995549551234905\n",
            "21 14.211529539247449\n",
            "22 14.294614495466416\n",
            "23 14.296377267959747\n",
            "24 14.26302823495898\n",
            "25 14.302807644554363\n",
            "26 14.26367467004335\n",
            "27 14.190569706631887\n",
            "28 14.09798628936396\n",
            "29 14.028163388804842\n",
            "30 13.994196127595004\n",
            "31 14.022416791035935\n",
            "32 14.107068673582667\n",
            "33 14.212746469869595\n",
            "34 14.324036058161504\n",
            "35 14.50601149866162\n",
            "36 14.774160776699027\n",
            "37 15.170857978757233\n",
            "38 15.301415269770382\n",
            "39 15.496184188489982\n",
            "40 15.848973171889837\n",
            "41 16.294220969560318\n",
            "42 16.792602060779963\n",
            "43 17.498925781249994\n",
            "44 18.180731432858217\n",
            "45 18.526860544996566\n",
            "46 19.003002052184108\n",
            "47 20.00621763787293\n",
            "48 21.607194148936163\n"
          ],
          "name": "stdout"
        }
      ]
    },
    {
      "cell_type": "markdown",
      "metadata": {
        "id": "iYw1BIjqCn7I"
      },
      "source": [
        "YODI WAHYU H\n",
        "171250000239\n",
        "Sistem Informasi R2\n",
        "UTS Data **Mining** "
      ]
    }
  ]
}